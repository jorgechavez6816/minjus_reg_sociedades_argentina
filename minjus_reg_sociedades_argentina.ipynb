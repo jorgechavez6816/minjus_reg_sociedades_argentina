{
 "cells": [
  {
   "cell_type": "code",
   "execution_count": null,
   "metadata": {},
   "outputs": [],
   "source": [
    "#Páginas web de Instituciones Argentinas\n",
    "#http://datos.jus.gob.ar/dataset/registro-nacional-de-sociedades/archivo/ac42fc32-7d72-4be5-9d37-e1f796634e55\n",
    "\n",
    "import pandas as pd\n",
    "import pyautogui\n",
    "from urllib.request import urlopen\n",
    "from zipfile import ZipFile\n",
    "\n",
    "zip_url1 = 'http://datos.jus.gob.ar/dataset/ee83de85-4305-4c53-9a9f-fd3d15e42c36/resource/385fae21-3a26-4b13-8f1e-b4391e3da62e/download/registro-nacional-sociedades-2020.zip'\n",
    "archivo_zip1 = urlopen(zip_url1)\n",
    "tempo_zip1 = open(\"C:\\\\Users\\\\Intel\\\\tempo1.zip\", \"wb\")\n",
    "tempo_zip1.write(archivo_zip1.read())\n",
    "tempo_zip1.close()\n",
    "z_final1 = ZipFile(\"C:\\\\Users\\\\Intel\\\\tempo1.zip\")\n",
    "z_final1.extractall(path = 'C:\\\\Users\\\\Intel\\\\Documents\\\\Mis documentos IDEA\\\\Samples\\\\Archivos fuente.ILB')\n",
    "z_final1.close()\n"
   ]
  }
 ],
 "metadata": {
  "kernelspec": {
   "display_name": "Python 3",
   "language": "python",
   "name": "python3"
  },
  "language_info": {
   "codemirror_mode": {
    "name": "ipython",
    "version": 3
   },
   "file_extension": ".py",
   "mimetype": "text/x-python",
   "name": "python",
   "nbconvert_exporter": "python",
   "pygments_lexer": "ipython3",
   "version": "3.7.6"
  }
 },
 "nbformat": 4,
 "nbformat_minor": 4
}
